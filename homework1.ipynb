{
 "cells": [
  {
   "cell_type": "markdown",
   "metadata": {},
   "source": [
    "# Portfolio Theory - Homework #1\n",
    "Due October 11, 2018 \n",
    "\n",
    "Robert Hatem, Tania Labastida, Sergio Calvo de Leon"
   ]
  },
  {
   "cell_type": "markdown",
   "metadata": {},
   "source": [
    "## 1. HMC's Approach"
   ]
  },
  {
   "cell_type": "markdown",
   "metadata": {},
   "source": [
    "### 1. The HMC framing of the portfolio allocation problem."
   ]
  },
  {
   "cell_type": "markdown",
   "metadata": {},
   "source": [
    "#### (a) Why does HMC focus on real returns when analyzing its portfolio allocation? Is this just a matter of scaling, or does using real returns versus nominal returns potentially change the MV solution?"
   ]
  },
  {
   "cell_type": "markdown",
   "metadata": {},
   "source": [
    "HMC focuses on real returns when analyzing its portfolio allocation because that’s what overseers at the university care about.  Real returns are a better measure because returns that are eroded by inflation are bad.  Accounting for inflation gets the university more purchasing power, instead of simply more raw dollars.  Using the nominal would not change the Mean-Variance (MV) solution in the optimal allocation if each asset were multiplied by the same factor.  It’s easy to show that the constant would simply cancel out in the equation for the optimal portfolio, resulting in the same allocation as before.\n",
    "\n",
    "However, if converting nominal to real rates requires more than one simply multication of a constant, then the MV solutions (weights) will indeed be different. For example, if every year of the time series requires multiplying by a different constant, then those constants can't some out of the summation and the MV solution will indeed change."
   ]
  },
  {
   "cell_type": "markdown",
   "metadata": {},
   "source": [
    "#### (b) There are thousands of individual risky assets in which HMC can invest. Explain why MV optimization across 1,000 securities is infeasible."
   ]
  },
  {
   "cell_type": "markdown",
   "metadata": {},
   "source": [
    "The mean variance optimization method takes into account the mean and variance vectors of a distribution of returns. These parameters are not directly observable but estimated based on fundamental and historical information. Therefore, the weight values are estimates of the optimal portfolio weights. The estimation error inherent in the parameters in transmitted to the portfolio weights. When the number of assets increases, the dimension of the covariance matrix increases at a quadratic rate propagating the estimation errors at this higher rate.\n",
    "\n",
    "https://www.empiwifo.uni-freiburg.de/lehre-teaching-1/winter-term-10-11/materialien-portfolio-analysis/empirics.pdf"
   ]
  },
  {
   "cell_type": "markdown",
   "metadata": {},
   "source": [
    "#### (c) Rather than optimize across all securities directly, HMC runs a two-stage optimization.\n",
    "First, they build asset class portfolios with each one optimized over the securities of the\n",
    "specific asset class. Second, HMC combines the asset-class portfolios into one total optimized portfolio.\n",
    "\n",
    "In order for the two-stage optimization to be a good approximation of the direct MV-\n",
    "optimization, what must be true of the partition of securities into asset classes?"
   ]
  },
  {
   "cell_type": "markdown",
   "metadata": {},
   "source": [
    "The asset-specific sub-portfolios should be linearly independent. To detect, this you need to run the first stage, then form the returns matrix of the asset-specific sub-portfolios and see if its singular (determinant is zero). If it is, then go back and redo stage one using a different method, or just discard the unnecessary sub-portfolio and procede with stage two.  "
   ]
  },
  {
   "cell_type": "markdown",
   "metadata": {},
   "source": [
    "#### (d) Should TIPS form a new asset class or be grouped into one of the other 11 classes?"
   ]
  },
  {
   "cell_type": "markdown",
   "metadata": {},
   "source": [
    "Since there is a two-stage process, there is a risk that TIPS is a linear combination of the other 11 assets. There is no way to know for sure by theory; You need to run the first stage, then see if the TIPS sub-portfolio is a linear combination of the other 11 sub-portfolios.If so, then it can be safely merged with another asset class before stage-one without losing any performance."
   ]
  },
  {
   "cell_type": "markdown",
   "metadata": {},
   "source": [
    "### 2. Portfolio Constraints\n",
    "The case discusses the fact that Harvard places bounds on the portfolio allocation rather than\n",
    "implementing whatever numbers come out of the MV optimization problem."
   ]
  },
  {
   "cell_type": "markdown",
   "metadata": {},
   "source": [
    "#### (a) Similar to what we did in the lecture, write down the mathematical optimization problem which corresponds to the bounded solutions given in Exhibits 5 and 6. Do not try to solve it.  In the lecture, we solved these optimization problems to get explicit formulas. Explain why we cannot similarly get closed-form solutions for these bounded optimizations."
   ]
  },
  {
   "cell_type": "markdown",
   "metadata": {},
   "source": [
    "<img src=\"equations_2a.png\">"
   ]
  },
  {
   "cell_type": "markdown",
   "metadata": {},
   "source": [
    "According to the problem definition, we are seeking to find a convex function in the weights vector. By limiting the range of the weights, the function will not be purely convex, as it will have a range of possible solutions (no one unique extremum)."
   ]
  },
  {
   "cell_type": "markdown",
   "metadata": {},
   "source": [
    "#### (b) Exhibits 5 shows zero allocation to domestic equities and domestic bonds across the entire computed range of targeted returns, (5.75% to 7.25%). Conceptually, why is the constraint binding in all these cases? What would the unconstrained portfolio want to do with those allocations and why?"
   ]
  },
  {
   "cell_type": "markdown",
   "metadata": {},
   "source": [
    "The constraint prevents shorts positions in these asset classes. Since the allocations are zero, removing the constraint would probably result in short positions (negative values) in these asset classes, which were prevented by the constraint before."
   ]
  },
  {
   "cell_type": "markdown",
   "metadata": {},
   "source": [
    "#### (c) Exhibit 6 changes the constraints, (tightening them in most cases.) How much deterioration do we see in the mean-variance tradeoff? Do you think this deterioration is worse at a targeted return of 10% or at 5% . Why?"
   ]
  },
  {
   "cell_type": "markdown",
   "metadata": {},
   "source": [
    "The sharpe ratio drops from 0.38 to 0.35 or 0.36 for all expected real return (5.75% to 7.25%).  There is no reason to think this trend would not continue for 5% or 10%.  So the deterioration would be roughly the same at 5%, 10%, or any other expected return value.\n",
    "\n",
    "It’s interesting to note that as the expected return increases, the allocation to TIPS drops.  This is because TIPS is a low-return asset, so you want less of it to achieve higher returns. The opposite direction is true for Emerging Markets; the allocation to EM increases as you increase target expected real return. "
   ]
  },
  {
   "cell_type": "markdown",
   "metadata": {},
   "source": [
    "## 2. Mean-Variance Optimization\n",
    "* The exhibit data is in a spreadsheet posted on Canvas,1 but you do not need to use it; I provide it only in case you wish to do extra comparisons to the case data.\n",
    "* For our analysis, we use more current data found in assetclass data monthly.xlsx.\n",
    "* The time-series data gives monthly returns for the 12 asset classes from Jan 2000 to Sep 2018.\n",
    "* There are missing values, as some of the assets do not have return data until 2003, 2007, or even 2009. You can still work with this; just be sure that your computations ignore missing values when calculating the mean returns and that they calculate pairwise covariances2 using only the rows for which both assets have a listed return.3\n",
    "* Notice that there is no risk-free rate in the case. Cash has small but positive covariances, and is thus a risky asset. Thus we will be working with the risky MV frontier for 12 asset classes.\n",
    "* These are nominal returns|they are not adjusted for ination, and we only worry about optimizing nominal returns."
   ]
  },
  {
   "cell_type": "markdown",
   "metadata": {},
   "source": [
    "### 1. Summary statistics"
   ]
  },
  {
   "cell_type": "markdown",
   "metadata": {},
   "source": [
    "#### (a) Calculate and display the mean and volatility of each asset. (Recall we use volatility to refer to standard deviation.)"
   ]
  },
  {
   "cell_type": "code",
   "execution_count": 35,
   "metadata": {},
   "outputs": [],
   "source": [
    "import numpy as np\n",
    "import pandas as pd\n",
    "import matplotlib.pyplot as plt\n",
    "%matplotlib inline\n",
    "\n",
    "file_path = '/Users/roberthatem/Documents/Chicago FinM/Portfolio Thoery (Hendricks)/Homework 1/assetclass_data_monthly.xlsx'\n",
    "\n",
    "returns = pd.read_excel(file_path,\n",
    "                 parse_dates=[\"Dates\"],\n",
    "                 #date_parser=lambda m: pd.to_datetime(m, format = \"%Y-%m\"),\n",
    "                 index_col=\"Dates\")"
   ]
  },
  {
   "cell_type": "code",
   "execution_count": 36,
   "metadata": {},
   "outputs": [
    {
     "data": {
      "image/png": "[encoded data removed]",
      "text/plain": [
       "<Figure size 432x288 with 1 Axes>"
      ]
     },
     "metadata": {
      "needs_background": "light"
     },
     "output_type": "display_data"
    }
   ],
   "source": [
    "# display mean return by asset\n",
    "returns.mean().plot.bar();\n",
    "plt.ylabel('mean return');"
   ]
  },
  {
   "cell_type": "code",
   "execution_count": 37,
   "metadata": {},
   "outputs": [
    {
     "data": {
      "image/png": "[encoded data removed]",
      "text/plain": [
       "<Figure size 432x288 with 1 Axes>"
      ]
     },
     "metadata": {
      "needs_background": "light"
     },
     "output_type": "display_data"
    }
   ],
   "source": [
    "# display volatility by asset\n",
    "returns.std().plot.bar();\n",
    "plt.ylabel('Volatility of return');"
   ]
  },
  {
   "cell_type": "markdown",
   "metadata": {},
   "source": [
    "#### (b) Which assets have the best and worst mean-volatility ratios?\n",
    "\n",
    "Since these are not excess returns, this ratio is not technically the Sharpe Ratio."
   ]
  },
  {
   "cell_type": "code",
   "execution_count": 38,
   "metadata": {},
   "outputs": [
    {
     "data": {
      "image/png": "[encoded data removed]",
      "text/plain": [
       "<Figure size 432x288 with 1 Axes>"
      ]
     },
     "metadata": {
      "needs_background": "light"
     },
     "output_type": "display_data"
    }
   ],
   "source": [
    "# mean-volatility ratio\n",
    "(returns.mean()/returns.std()).plot.bar();\n",
    "plt.ylabel('mean-volatility ratio');"
   ]
  },
  {
   "cell_type": "markdown",
   "metadata": {},
   "source": [
    "Commodities has the worst (lowest) mean-volatility ratio and cash has the highest mean-volatility ratio, due to its very low volatility (its mean is also smallest, but the volatility is so low that it creates the largest ratio)."
   ]
  },
  {
   "cell_type": "markdown",
   "metadata": {},
   "source": [
    "#### (c) Considering our discussion of correlation constraints, are there any assets for which $\\rho^{1,2}$ and $\\rho^{1,3}$ have opposite signs, yet $\\rho^{2,3}$ is positive?"
   ]
  },
  {
   "cell_type": "code",
   "execution_count": 103,
   "metadata": {},
   "outputs": [
    {
     "data": {
      "image/png": "[encoded data removed]",
      "text/plain": [
       "<Figure size 432x288 with 2 Axes>"
      ]
     },
     "metadata": {
      "needs_background": "light"
     },
     "output_type": "display_data"
    }
   ],
   "source": [
    "# yellow is positive correlation\n",
    "import seaborn as sns\n",
    "sns.heatmap(returns.corr()<0, cmap=\"YlGnBu\");"
   ]
  },
  {
   "cell_type": "markdown",
   "metadata": {},
   "source": [
    "Domestic Equity has **negative** correlation with Domestic Bonds (-.29), and **positive** correlation with Foreign Bonds (.39). However, Domestic Bonds has **positive** correlation with Foreign Bonds (.38)."
   ]
  },
  {
   "cell_type": "markdown",
   "metadata": {},
   "source": [
    "### 2. The MV frontier"
   ]
  },
  {
   "cell_type": "code",
   "execution_count": 39,
   "metadata": {},
   "outputs": [],
   "source": [
    "from datetime import datetime\n",
    "\n",
    "# function to calculate everything\n",
    "def mv_portfolio(train_data, test_data, mu_p):\n",
    "    '''\n",
    "    Trains model on data, subject to target mean mu_p, and gives in-sample statistics\n",
    "    '''\n",
    "    master_dist = {}\n",
    "    \n",
    "    # calculate mean return mu\n",
    "    mu = np.array([train_data.mean().values.T]).T\n",
    "    master_dist['mu'] = mu\n",
    "\n",
    "    # reshape\n",
    "    p = len(mu)\n",
    "    master_dist['p'] = p\n",
    "\n",
    "    # calculate covariance matrix Sigma\n",
    "    Sigma = train_data.cov().values\n",
    "    master_dist['Sigma'] = Sigma\n",
    "\n",
    "    # calculate weights of tangency portfolio, omega_t\n",
    "    Sigma_inv = np.linalg.inv(Sigma)\n",
    "    ones_vec = np.ones((p,1))\n",
    "    denominator_t = ones_vec.T @ Sigma_inv @ mu\n",
    "\n",
    "    omega_t = (denominator_t**-1) * Sigma_inv @ mu\n",
    "    master_dist['omega_t'] = omega_t\n",
    "\n",
    "    # calculate weights of global minimum variance portfolio\n",
    "    denominator_v = ones_vec.T @ Sigma_inv @ ones_vec\n",
    "    \n",
    "    omega_v = (denominator_v**-1) * Sigma_inv @ ones_vec\n",
    "    master_dist['omega_v'] = omega_v\n",
    "\n",
    "    # mean for tangency portfolio\n",
    "    mu_t = omega_t.T @ mu\n",
    "    master_dist['mu_t'] = mu_t\n",
    "\n",
    "    # standard deviation for GMV portfolio\n",
    "    mu_v = omega_v.T @ mu\n",
    "    master_dist['mu_v'] = mu_v\n",
    "\n",
    "    # volatility for tangency portfolio\n",
    "    sd_t = (omega_t.T @ Sigma @ omega_t)**0.5\n",
    "    master_dist['sd_t'] = sd_t # (np.dot(omega_t.T,Sigma).dot(omega_t))**0.5\n",
    "\n",
    "    # standard deviation for GMV portfolio\n",
    "    sd_v = (omega_v.T @ Sigma @ omega_v)**0.5\n",
    "    master_dist['sd_v'] = sd_v\n",
    "\n",
    "    # weight of MV portfolios\n",
    "    delta = (mu_p - mu_v)/(mu_t - mu_v)\n",
    "    master_dist['delta'] = delta\n",
    "\n",
    "    # weights of optimal portfolio\n",
    "    omega_p = delta*omega_t + (1-delta)*omega_v\n",
    "    master_dist['omega_p'] = omega_p\n",
    "    \n",
    "    # mean return of overall portfolio\n",
    "    mu_p = omega_p.T @ mu\n",
    "    master_dist['mu_p'] = mu_p\n",
    "\n",
    "    # volatility of overall portfolio\n",
    "    sd_p = (omega_p.T @ Sigma @ omega_p)**(1/2)#      (np.dot(omega_p.T,Sigma).dot(omega_p))**0.5\n",
    "    master_dist['sd_p'] = sd_p\n",
    "\n",
    "    # mean-volatility ratio\n",
    "    mean_vol_ratio_p = mu_p/sd_p\n",
    "    master_dist['mean_vol_ratio_p'] = mean_vol_ratio_p\n",
    "    \n",
    "    # mean return of test set\n",
    "    mu_test_set = np.array([test_data.mean().values.T]).T\n",
    "    master_dist['mu_test_set'] = mu_test_set\n",
    "\n",
    "    # mean return on test set\n",
    "    mu_return_test_set = omega_p.T @ mu_test_set\n",
    "    master_dist['mu_return_test_set'] = mu_return_test_set\n",
    "    \n",
    "    # volatility of test set\n",
    "    Sigma_test_set = test_data.cov().values\n",
    "    master_dist['Sigma_test_set'] = Sigma_test_set\n",
    "\n",
    "    # volatility of model trained on train_data applied to test_data\n",
    "    sigma_vol_test_set = omega_p.T @ Sigma_test_set @ omega_p\n",
    "    master_dist['sigma_vol_test_set'] = sigma_vol_test_set\n",
    "\n",
    "    # mean_variance ratio of model on out-of-sample data\n",
    "    m_v_ratio_test_set = mu_return_test_set/sigma_vol_test_set\n",
    "    master_dist['m_v_ratio_test_set'] = m_v_ratio_test_set\n",
    "    \n",
    "    return master_dist"
   ]
  },
  {
   "cell_type": "markdown",
   "metadata": {},
   "source": [
    "#### (a) Compute and display the weights of both the tangency and global-minimum-variance portfolios: $\\omega^{t}$ and $\\omega^{v}$.\n",
    "\n",
    "$\\omega^t = \\Bigg(\\frac{1}{\\textbf{1}^{'}\\sum^{-1}\\mu} \\Bigg) \\sum^{-1}\\mu$\n",
    "\n",
    "$\\omega^t = \\Bigg(\\frac{1}{\\textbf{1}^{'}\\sum^{-1}\\textbf{1}} \\Bigg) \\sum^{-1}\\textbf{1}$"
   ]
  },
  {
   "cell_type": "code",
   "execution_count": 40,
   "metadata": {},
   "outputs": [
    {
     "name": "stdout",
     "output_type": "stream",
     "text": [
      "                    omega_t   omega_v\n",
      "Domestic Equity   -0.001159  0.000533\n",
      "Foreign Equity    -0.015762  0.000508\n",
      "Emerging Markets   0.013125 -0.001911\n",
      "Private Equity     0.013544  0.005408\n",
      "Absolute Return    0.054327  0.010332\n",
      "High Yield         0.027043  0.005298\n",
      "Commodities       -0.006653 -0.002334\n",
      "Real Estate       -0.013104 -0.001474\n",
      "Domestic Bonds     0.048451 -0.004629\n",
      "Foreign Bonds     -0.039650 -0.011592\n",
      "Inflation-Indexed -0.006645  0.002879\n",
      "Cash               0.926482  0.996983\n"
     ]
    }
   ],
   "source": [
    "# target mean return\n",
    "mu_p = 0.0067\n",
    "\n",
    "# run optimization for whole portfolio\n",
    "portfolio_2 = mv_portfolio(returns, returns, mu_p)\n",
    "\n",
    "# asset classes\n",
    "cols = list(returns.keys())\n",
    "\n",
    "# store in dataframe for easy-to-read printing\n",
    "d = pd.DataFrame(index=cols)\n",
    "d['omega_t'] = portfolio_2['omega_t'].reshape(12)\n",
    "d['omega_v'] = portfolio_2['omega_v'].reshape(12)\n",
    "\n",
    "print(d)"
   ]
  },
  {
   "cell_type": "markdown",
   "metadata": {},
   "source": [
    "#### (b) Compute the mean and standard deviation of the returns for $\\omega^{t}$ and $\\omega^{v}$."
   ]
  },
  {
   "cell_type": "code",
   "execution_count": 41,
   "metadata": {},
   "outputs": [
    {
     "name": "stdout",
     "output_type": "stream",
     "text": [
      "Annualized mean return for omega_t: 0.011741046599526002\n",
      "Annualized mean return for omega_v: 0.008802503398146254 \n",
      "\n",
      "Annualized standard deviation for omega_t: 0.018336796736293935\n",
      "Annualized standard deviation for omega_v: 0.015877172588094624\n"
     ]
    }
   ],
   "source": [
    "# Annualized mean return for omega_t and omega_v\n",
    "print('Annualized mean return for omega_t:', 12* portfolio_2['mu_t'][0][0])\n",
    "print('Annualized mean return for omega_v:', 12 * portfolio_2['mu_v'][0][0], '\\n')\n",
    "\n",
    "# Annualized standard deviation for omega_v\n",
    "print('Annualized standard deviation for omega_t:', 12 * portfolio_2['sd_t'][0][0])\n",
    "print('Annualized standard deviation for omega_v:', 12 * portfolio_2['sd_v'][0][0])"
   ]
  },
  {
   "cell_type": "markdown",
   "metadata": {},
   "source": [
    "### 3. The allocation"
   ]
  },
  {
   "cell_type": "markdown",
   "metadata": {},
   "source": [
    "#### (a) Compute and display the weights of MV portfolios with target returns of $\\mu^p = .0067$"
   ]
  },
  {
   "cell_type": "code",
   "execution_count": 42,
   "metadata": {},
   "outputs": [
    {
     "name": "stdout",
     "output_type": "stream",
     "text": [
      "Weight of the tangency vs. GMV portfolios is: 24.364963077022736 vs. -23.364963077022736 \n",
      "\n",
      "                    omega_t   omega_v   omega_p\n",
      "Domestic Equity   -0.001159  0.000533 -0.040674\n",
      "Foreign Equity    -0.015762  0.000508 -0.395911\n",
      "Emerging Markets   0.013125 -0.001911  0.364448\n",
      "Private Equity     0.013544  0.005408  0.203644\n",
      "Absolute Return    0.054327  0.010332  1.082288\n",
      "High Yield         0.027043  0.005298  0.535106\n",
      "Commodities       -0.006653 -0.002334 -0.107568\n",
      "Real Estate       -0.013104 -0.001474 -0.284858\n",
      "Domestic Bonds     0.048451 -0.004629  1.288683\n",
      "Foreign Bonds     -0.039650 -0.011592 -0.695229\n",
      "Inflation-Indexed -0.006645  0.002879 -0.229164\n",
      "Cash               0.926482  0.996983 -0.720767\n"
     ]
    }
   ],
   "source": [
    "# weights of MV portfolios with target returns of 0.0067\n",
    "d['omega_p'] = portfolio_2['omega_p']\n",
    "\n",
    "print('Weight of the tangency vs. GMV portfolios is:', portfolio_2['delta'][0][0], 'vs.', 1-portfolio_2['delta'][0][0], '\\n')\n",
    "print(d)"
   ]
  },
  {
   "cell_type": "markdown",
   "metadata": {},
   "source": [
    "$\\delta$ is positive, indicating that we buy multiple of the tangency portfolio and short the GMV portfolio."
   ]
  },
  {
   "cell_type": "markdown",
   "metadata": {},
   "source": [
    "#### (b) What is the mean, volatility, and mean-volatility ratio for $\\omega^p$?\n",
    "\n",
    "RH: We were just given the mean, so we will output it here."
   ]
  },
  {
   "cell_type": "code",
   "execution_count": 43,
   "metadata": {},
   "outputs": [
    {
     "name": "stdout",
     "output_type": "stream",
     "text": [
      "Mean of omega_p: 0.006700000000000008\n",
      "Vol of omega_p: 0.018672977528197455\n",
      "Mean-vol ratio of omega_p: 0.3588072651982019\n"
     ]
    }
   ],
   "source": [
    "# mean, vol, mean-vol ratio\n",
    "\n",
    "print('Mean of omega_p:', portfolio_2['mu_p'][0][0])\n",
    "print('Vol of omega_p:', portfolio_2['sd_p'][0][0])\n",
    "print('Mean-vol ratio of omega_p:', portfolio_2['mean_vol_ratio_p'][0][0])"
   ]
  },
  {
   "cell_type": "markdown",
   "metadata": {},
   "source": [
    "#### (c) Discuss the allocation. In which assets is the portfolio most long? And short?"
   ]
  },
  {
   "cell_type": "code",
   "execution_count": 44,
   "metadata": {},
   "outputs": [
    {
     "name": "stdout",
     "output_type": "stream",
     "text": [
      "Domestic Equity     -0.040674\n",
      "Foreign Equity      -0.395911\n",
      "Emerging Markets     0.364448\n",
      "Private Equity       0.203644\n",
      "Absolute Return      1.082288\n",
      "High Yield           0.535106\n",
      "Commodities         -0.107568\n",
      "Real Estate         -0.284858\n",
      "Domestic Bonds       1.288683\n",
      "Foreign Bonds       -0.695229\n",
      "Inflation-Indexed   -0.229164\n",
      "Cash                -0.720767\n",
      "Name: omega_p, dtype: float64\n"
     ]
    }
   ],
   "source": [
    "# show weights of omega_p\n",
    "print(d['omega_p'])"
   ]
  },
  {
   "cell_type": "markdown",
   "metadata": {},
   "source": [
    "The portfolio is most long on Domestic bonds with weight 1.28. The largest short position is cash at -0.72. The positions are not far out - they are all near 0 and most are within 1."
   ]
  },
  {
   "cell_type": "markdown",
   "metadata": {},
   "source": [
    "#### (d) Does this line up with which assets have the strongest mean-volatility ratios?\n",
    "\n",
    "First, let's add the column for mean-volatility ratio so we can compare to their weights."
   ]
  },
  {
   "cell_type": "code",
   "execution_count": 45,
   "metadata": {},
   "outputs": [
    {
     "name": "stdout",
     "output_type": "stream",
     "text": [
      "                    omega_t   omega_v   omega_p  M_V_Ratio        mu       vol\n",
      "Domestic Equity   -0.001159  0.000533 -0.040674   0.133454  0.005504  0.041241\n",
      "Foreign Equity    -0.015762  0.000508 -0.395911   0.116127  0.005626  0.048447\n",
      "Emerging Markets   0.013125 -0.001911  0.364448   0.169355  0.010750  0.063477\n",
      "Private Equity     0.013544  0.005408  0.203644   0.043479  0.003188  0.073313\n",
      "Absolute Return    0.054327  0.010332  1.082288   0.198762  0.002493  0.012544\n",
      "High Yield         0.027043  0.005298  0.535106   0.147401  0.004850  0.032905\n",
      "Commodities       -0.006653 -0.002334 -0.107568   0.035205  0.002272  0.064538\n",
      "Real Estate       -0.013104 -0.001474 -0.284858   0.159248  0.009311  0.058472\n",
      "Domestic Bonds     0.048451 -0.004629  1.288683   0.199075  0.003690  0.018533\n",
      "Foreign Bonds     -0.039650 -0.011592 -0.695229   0.075234  0.001888  0.025093\n",
      "Inflation-Indexed -0.006645  0.002879 -0.229164   0.190098  0.003177  0.016714\n",
      "Cash               0.926482  0.996983 -0.720767   0.522935  0.000731  0.001397\n"
     ]
    }
   ],
   "source": [
    "# add column for mean-volatility ratio\n",
    "sd_by_asset = (np.diagonal(portfolio_2['Sigma']))**0.5\n",
    "\n",
    "p=12\n",
    "\n",
    "mean_vol_ratio_by_asset = portfolio_2['mu']/(sd_by_asset.reshape((p,1)))\n",
    "\n",
    "d['M_V_Ratio'] = mean_vol_ratio_by_asset.reshape((p))\n",
    "\n",
    "# columns for mean return and volatility\n",
    "d['mu'] = portfolio_2['mu']\n",
    "d['vol'] = sd_by_asset.reshape((p))\n",
    "\n",
    "print(d)"
   ]
  },
  {
   "cell_type": "markdown",
   "metadata": {},
   "source": [
    "Domestic bonds are weighted most heavily, and they have a good mean-volatility ratio (0.199), but not the best.  There are many other assset classes with similar or better ratios.  Additionally, cash has the best ratio by far (0.523 vs. 0.199), and is also in a large short position, as expected."
   ]
  },
  {
   "cell_type": "markdown",
   "metadata": {},
   "source": [
    "#### (e) Is the weight on inflation-indexed bonds primarily motivated by adding mean returns or hedging?"
   ]
  },
  {
   "cell_type": "markdown",
   "metadata": {},
   "source": [
    "TIPS's mean return is lower than that of the overall portfolio (0.0032 vs. 0.0067), so adding TIPS would not help achieve the desired mean return. Therefore, it is more useful for hedging."
   ]
  },
  {
   "cell_type": "markdown",
   "metadata": {},
   "source": [
    "### 4. The allocation without inflation-indexed bonds"
   ]
  },
  {
   "cell_type": "markdown",
   "metadata": {},
   "source": [
    "#### (a) Drop the inflation-indexed bonds from your return array, and recompute $\\omega^p$ as an 11 x 1 vector allocating to the remaining assets."
   ]
  },
  {
   "cell_type": "code",
   "execution_count": 73,
   "metadata": {},
   "outputs": [
    {
     "name": "stdout",
     "output_type": "stream",
     "text": [
      "                   omega_p\n",
      "Domestic Equity  -0.063525\n",
      "Foreign Equity   -0.394951\n",
      "Emerging Markets  0.361385\n",
      "Private Equity    0.221500\n",
      "Absolute Return   1.149219\n",
      "High Yield        0.532721\n",
      "Commodities      -0.123909\n",
      "Real Estate      -0.307808\n",
      "Domestic Bonds    1.184264\n",
      "Foreign Bonds    -0.735457\n",
      "Cash             -0.823437\n"
     ]
    }
   ],
   "source": [
    "# remove 'Inflation-indexed'\n",
    "train_data = returns.drop('Inflation-Indexed', 1)\n",
    "\n",
    "# calculate portfolio\n",
    "portfolio_4 = mv_portfolio(train_data, train_data, mu_p)\n",
    "\n",
    "# results\n",
    "cols = list(returns.keys())\n",
    "cols.remove('Inflation-Indexed')\n",
    "d4 = pd.DataFrame(index=cols)\n",
    "d4['omega_p'] = portfolio_4['omega_p']\n",
    "print(d4)"
   ]
  },
  {
   "cell_type": "markdown",
   "metadata": {},
   "source": [
    "#### (b) How does the portfolio compare to the allocation above where inflation-indexed bonds were available?"
   ]
  },
  {
   "cell_type": "code",
   "execution_count": 76,
   "metadata": {},
   "outputs": [
    {
     "name": "stdout",
     "output_type": "stream",
     "text": [
      "Omega_p with TIPS:\n",
      " Domestic Equity     -0.040674\n",
      "Foreign Equity      -0.395911\n",
      "Emerging Markets     0.364448\n",
      "Private Equity       0.203644\n",
      "Absolute Return      1.082288\n",
      "High Yield           0.535106\n",
      "Commodities         -0.107568\n",
      "Real Estate         -0.284858\n",
      "Domestic Bonds       1.288683\n",
      "Foreign Bonds       -0.695229\n",
      "Inflation-Indexed   -0.229164\n",
      "Cash                -0.720767\n",
      "Name: omega_p, dtype: float64\n",
      "Omega_p withouth TIPS:\n",
      " Domestic Equity    -0.063525\n",
      "Foreign Equity     -0.394951\n",
      "Emerging Markets    0.361385\n",
      "Private Equity      0.221500\n",
      "Absolute Return     1.149219\n",
      "High Yield          0.532721\n",
      "Commodities        -0.123909\n",
      "Real Estate        -0.307808\n",
      "Domestic Bonds      1.184264\n",
      "Foreign Bonds      -0.735457\n",
      "Cash               -0.823437\n",
      "Name: omega_p, dtype: float64 \n",
      "\n"
     ]
    }
   ],
   "source": [
    "# Both for comparison\n",
    "print('Omega_p with TIPS:\\n',d['omega_p'])\n",
    "print('Omega_p withouth TIPS:\\n',d4['omega_p'], '\\n')"
   ]
  },
  {
   "cell_type": "markdown",
   "metadata": {},
   "source": [
    "The cash allocation increased to a further short position. Absolute return increased from 1.08 to 1.14, while domestic bonds dropped from 1.28 to 1.18."
   ]
  },
  {
   "cell_type": "markdown",
   "metadata": {},
   "source": [
    "####  (c) Calculate the mean-volatility ratio. How much did it change?"
   ]
  },
  {
   "cell_type": "code",
   "execution_count": 64,
   "metadata": {},
   "outputs": [
    {
     "name": "stdout",
     "output_type": "stream",
     "text": [
      "Ratio with TIPS: 0.3588072651982019\n",
      "Ratio without TIPS: 0.35611027644080345\n"
     ]
    }
   ],
   "source": [
    "# mean-volatility ratio\n",
    "print('Ratio with TIPS:', portfolio_2['mean_vol_ratio_p'][0][0])\n",
    "print('Ratio without TIPS:', portfolio_4['mean_vol_ratio_p'][0][0])"
   ]
  },
  {
   "cell_type": "markdown",
   "metadata": {},
   "source": [
    "The mean-volatility ratio dropped slightly after removing TIPS. This makes sense; the performance should drop after adding a constraint i.e. setting weight of TIPS to zero."
   ]
  },
  {
   "cell_type": "markdown",
   "metadata": {},
   "source": [
    "#### (d) Do you think inflation-indexed bonds are a significant expansion of the investment opportunity set for an allocator that is optimizing nominal returns, as we are here? Or was it only relevant to HMC given their focus on inflation-adjusted returns?"
   ]
  },
  {
   "cell_type": "markdown",
   "metadata": {},
   "source": [
    "The data suggests that TIPS are not a significant opportunity, since the mean-vol improved only a little bit. However, they would be more useful for inflation-injusted returns since they are tied to inflation and will can help protect against inflation. Additionally, it should be noted that for nominal returns, it is useful to try adding TIPS and seeing if it helps, instead of discarding TIPS right away based on nomial returns reasons. In short, whatever your theory, try it out if you have the time."
   ]
  },
  {
   "cell_type": "markdown",
   "metadata": {},
   "source": [
    "### 5. Return to considering the full set of 12 assets, including inflation-indexed bonds."
   ]
  },
  {
   "cell_type": "markdown",
   "metadata": {},
   "source": [
    "#### (a) Recalculate the allocation for $\\mu^p = 0.01$,  (an annualized 12%.)"
   ]
  },
  {
   "cell_type": "code",
   "execution_count": 49,
   "metadata": {},
   "outputs": [
    {
     "name": "stdout",
     "output_type": "stream",
     "text": [
      "                    omega_p\n",
      "Domestic Equity   -0.063464\n",
      "Foreign Equity    -0.615167\n",
      "Emerging Markets   0.567079\n",
      "Private Equity     0.313287\n",
      "Absolute Return    1.675179\n",
      "High Yield         0.828138\n",
      "Commodities       -0.165771\n",
      "Real Estate       -0.441595\n",
      "Domestic Bonds     2.004004\n",
      "Foreign Bonds     -1.073344\n",
      "Inflation-Indexed -0.357505\n",
      "Cash              -1.670840\n"
     ]
    }
   ],
   "source": [
    "# target mean return\n",
    "mu_p = 0.01\n",
    "\n",
    "# run portfolio with all 12 assets\n",
    "portfolio_5 = mv_portfolio(returns, returns, mu_p)\n",
    "\n",
    "# dataframe to show results\n",
    "cols = list(returns.keys())\n",
    "d5 = pd.DataFrame(index=cols)\n",
    "d5['omega_p'] = portfolio_5['omega_p']\n",
    "\n",
    "print(d5)"
   ]
  },
  {
   "cell_type": "markdown",
   "metadata": {},
   "source": [
    "#### (b) For which assets is the allocation most long and most short?"
   ]
  },
  {
   "cell_type": "markdown",
   "metadata": {},
   "source": [
    "The portfolio is most long in Domestic Bonds with weight 2.00. The most short position is Cash at -1.67."
   ]
  },
  {
   "cell_type": "markdown",
   "metadata": {},
   "source": [
    "#### (c) How does the allocation compare to that for $\\mu^p$ = .0067? For which assets has the allocation changed the most?"
   ]
  },
  {
   "cell_type": "code",
   "execution_count": 71,
   "metadata": {},
   "outputs": [
    {
     "name": "stdout",
     "output_type": "stream",
     "text": [
      "Change in allocation from 0.067 to 0.01:\n",
      " Absolute Return      0.525960\n",
      "Cash                -0.847403\n",
      "Commodities         -0.041863\n",
      "Domestic Bonds       0.819740\n",
      "Domestic Equity      0.000061\n",
      "Emerging Markets     0.205694\n",
      "Foreign Bonds       -0.337887\n",
      "Foreign Equity      -0.220216\n",
      "High Yield           0.295417\n",
      "Inflation-Indexed         NaN\n",
      "Private Equity       0.091787\n",
      "Real Estate         -0.133787\n",
      "Name: omega_p, dtype: float64\n"
     ]
    }
   ],
   "source": [
    "# allocation change\n",
    "print('Change in allocation from 0.067 to 0.01:\\n' ,d5['omega_p'] - d4['omega_p'])"
   ]
  },
  {
   "cell_type": "markdown",
   "metadata": {},
   "source": [
    "The cash position dropped the most; from 0.82 to -1.67 (-0.85), while Domestic bonds rose the most; from 1.18 to 2.00.  Absolute return also rose by 0.52. These positions help increase the mean return of the portfolio since they have above-mean returns individually."
   ]
  },
  {
   "cell_type": "markdown",
   "metadata": {},
   "source": [
    "### 6. We have seen large long-short positions in the calculations above. Let’s investigate this in a simple two-asset setting."
   ]
  },
  {
   "cell_type": "markdown",
   "metadata": {},
   "source": [
    "(a) Consider an allocation between only domestic and foreign equities. (Drop all other return\n",
    "columns and recompute $\\omega_p$ for $\\mu_p = 0.0067$)\n",
    "\n",
    "(b) What is causing the extreme long-short position?\n",
    "\n",
    "(c) Make an adjustment to \u0016foreign bonds of -0.0005, (-0.006 annualized.) Recompute $\\omega^p$ for $mu_p = 0.0067$ for these two assets.\n",
    "How does the allocation among the two assets change?\n",
    "\n",
    "(d) What does this say about the statistical precision of the MV solutions?"
   ]
  },
  {
   "cell_type": "markdown",
   "metadata": {},
   "source": [
    "#### (a) Consider an allocation between only domestic and foreign equities. (Drop all other return columns and recompute $\\omega_p$ for $\\mu_p = 0.0067$)."
   ]
  },
  {
   "cell_type": "code",
   "execution_count": 51,
   "metadata": {},
   "outputs": [
    {
     "name": "stdout",
     "output_type": "stream",
     "text": [
      "                 omega_p\n",
      "Domestic Equity -8.79377\n",
      "Foreign Equity   9.79377\n"
     ]
    }
   ],
   "source": [
    "# two asset classes\n",
    "train_data = returns[['Domestic Equity','Foreign Equity']]\n",
    "\n",
    "# target mean return\n",
    "mu_p = 0.0067\n",
    "\n",
    "# run optimization\n",
    "portfolio_6 = mv_portfolio(train_data, train_data, mu_p)\n",
    "\n",
    "# index\n",
    "cols = ['Domestic Equity','Foreign Equity']\n",
    "\n",
    "# store results\n",
    "d6 = pd.DataFrame(index=cols)\n",
    "d6['omega_p'] = portfolio_6['omega_p']\n",
    "print(d6)"
   ]
  },
  {
   "cell_type": "markdown",
   "metadata": {},
   "source": [
    "#### (b) What is causing the extreme long-short position?"
   ]
  },
  {
   "cell_type": "markdown",
   "metadata": {},
   "source": [
    "The extreme long-short position is needed to achieve the high mean return while maintaining a total weight of 1. The asset with larger returns must have very heavy weight to push returns up, while the big short position is there to hold the total weight constant.  The difference between returns is small, so extreme long-short positions are needed to accentuatute the difference and get returns up. If the difference was bigger, the long-short positions wouldn't need to be as extreme."
   ]
  },
  {
   "cell_type": "code",
   "execution_count": 96,
   "metadata": {},
   "outputs": [
    {
     "name": "stdout",
     "output_type": "stream",
     "text": [
      "[[0.0055038 ]\n",
      " [0.00562594]]\n"
     ]
    }
   ],
   "source": [
    "# mean returns of two asset classes are close\n",
    "print(portfolio_6['mu'])"
   ]
  },
  {
   "cell_type": "markdown",
   "metadata": {},
   "source": [
    "#### (c) Make an adjustment to $\\mu^{foreign equity}$ of -0.0005, (-0.006 annualized.) Recompute $\\omega_p$ for $\\mu_p = 0.0067$ for these two assets. \n",
    "\n",
    "How does the allocation among the two assets change?"
   ]
  },
  {
   "cell_type": "code",
   "execution_count": 66,
   "metadata": {},
   "outputs": [],
   "source": [
    "# override mu for foreign equity\n",
    "\n",
    "def mv_portfolio_6c(train_data, test_data, mu_p):\n",
    "    '''\n",
    "    Trains model on data, subject to target mean mu_p, and gives in-sample statistics\n",
    "    '''\n",
    "    master_dist = {}\n",
    "    \n",
    "    # calculate mean return mu\n",
    "    mu = np.array([train_data.mean().values.T]).T\n",
    "    mu[1] = -0.0005  # override mu for foreign equity\n",
    "    master_dist['mu'] = mu\n",
    "    \n",
    "    # reshape\n",
    "    p = len(mu)\n",
    "    master_dist['p'] = p\n",
    "\n",
    "    # calculate covariance matrix Sigma\n",
    "    Sigma = train_data.cov().values\n",
    "    master_dist['Sigma'] = Sigma\n",
    "    \n",
    "    print('Sigma:', Sigma)\n",
    "\n",
    "    # calculate weights of tangency portfolio, omega_t\n",
    "    Sigma_inv = np.linalg.inv(Sigma)\n",
    "    ones_vec = np.ones((p,1))\n",
    "    denominator_t = ones_vec.T @ Sigma_inv @ mu\n",
    "\n",
    "    omega_t = (denominator_t**-1) * Sigma_inv @ mu\n",
    "    master_dist['omega_t'] = omega_t\n",
    "\n",
    "    # calculate weights of global minimum variance portfolio\n",
    "    denominator_v = ones_vec.T @ Sigma_inv @ ones_vec\n",
    "    \n",
    "    omega_v = (denominator_v**-1) * Sigma_inv @ ones_vec\n",
    "    master_dist['omega_v'] = omega_v\n",
    "\n",
    "    # mean for tangency portfolio\n",
    "    mu_t = omega_t.T @ mu\n",
    "    master_dist['mu_t'] = mu_t\n",
    "\n",
    "    # standard deviation for GMV portfolio\n",
    "    mu_v = omega_v.T @ mu\n",
    "    master_dist['mu_v'] = mu_v\n",
    "\n",
    "    # volatility for tangency portfolio\n",
    "    sd_t = (omega_t.T @ Sigma @ omega_t)**0.5\n",
    "    master_dist['sd_t'] = sd_t # (np.dot(omega_t.T,Sigma).dot(omega_t))**0.5\n",
    "\n",
    "    # standard deviation for GMV portfolio\n",
    "    sd_v = (omega_v.T @ Sigma @ omega_v)**0.5\n",
    "    master_dist['sd_v'] = sd_v\n",
    "\n",
    "    # weight of MV portfolios\n",
    "    delta = (mu_p - mu_v)/(mu_t - mu_v)\n",
    "    master_dist['delta'] = delta\n",
    "\n",
    "    # weights of optimal portfolio\n",
    "    omega_p = delta*omega_t + (1-delta)*omega_v\n",
    "    master_dist['omega_p'] = omega_p\n",
    "    \n",
    "    # mean return of overall portfolio\n",
    "    mu_p = omega_p.T @ mu\n",
    "    master_dist['mu_p'] = mu_p\n",
    "\n",
    "    # volatility of overall portfolio\n",
    "    sd_p = (omega_p.T @ Sigma @ omega_p)**(1/2)#      (np.dot(omega_p.T,Sigma).dot(omega_p))**0.5\n",
    "    master_dist['sd_p'] = sd_p\n",
    "\n",
    "    # mean-volatility ratio\n",
    "    mean_vol_ratio_p = mu_p/sd_p\n",
    "    master_dist['mean_vol_ratio_p'] = mean_vol_ratio_p\n",
    "    \n",
    "    # mean return of test set\n",
    "    mu_test_set = np.array([test_data.mean().values.T]).T\n",
    "    master_dist['mu_test_set'] = mu_test_set\n",
    "\n",
    "    # mean return on test set\n",
    "    mu_return_test_set = omega_p.T @ mu_test_set\n",
    "    master_dist['mu_return_test_set'] = mu_return_test_set\n",
    "    \n",
    "    # volatility of test set\n",
    "    Sigma_test_set = test_data.cov().values\n",
    "    master_dist['Sigma_test_set'] = Sigma_test_set\n",
    "\n",
    "    # volatility of model trained on train_data applied to test_data\n",
    "    sigma_vol_test_set = omega_p.T @ Sigma_test_set @ omega_p\n",
    "    master_dist['sigma_vol_test_set'] = sigma_vol_test_set\n",
    "\n",
    "    # mean_variance ratio of model trained on pre-17 data applied to 17-18 data\n",
    "    m_v_ratio_test_set = mu_return_test_set/sigma_vol_test_set\n",
    "    master_dist['m_v_ratio_test_set'] = m_v_ratio_test_set\n",
    "    \n",
    "    return master_dist"
   ]
  },
  {
   "cell_type": "code",
   "execution_count": 67,
   "metadata": {},
   "outputs": [
    {
     "name": "stdout",
     "output_type": "stream",
     "text": [
      "Sigma: [[0.00170083 0.00168979]\n",
      " [0.00168979 0.00234707]]\n",
      "Weights for original portflio:\n",
      "                  omega_p        mu\n",
      "Domestic Equity -8.79377  0.005504\n",
      "Foreign Equity   9.79377  0.005626 \n",
      "\n",
      "Weights for adjusted portflio:\n",
      "                   omega_p        mu\n",
      "Domestic Equity  1.199241  0.005504\n",
      "Foreign Equity  -0.199241 -0.000500 \n",
      "\n"
     ]
    }
   ],
   "source": [
    "# two asset classes\n",
    "train_data = returns[['Domestic Equity','Foreign Equity']]\n",
    "\n",
    "# target mean return\n",
    "mu_p = 0.0067\n",
    "\n",
    "# run optimization\n",
    "portfolio_6c = mv_portfolio_6c(train_data, train_data, mu_p)\n",
    "\n",
    "# index\n",
    "cols = ['Domestic Equity','Foreign Equity']\n",
    "\n",
    "# store results\n",
    "d6c = pd.DataFrame(index=cols)\n",
    "d6c['omega_p'] = portfolio_6c['omega_p']\n",
    "d6c['mu'] = portfolio_6c['mu']\n",
    "\n",
    "d6['mu'] = portfolio_6['mu']\n",
    "\n",
    "print('Weights for original portflio:\\n', d6, '\\n')\n",
    "print('Weights for adjusted portflio:\\n', d6c, '\\n')"
   ]
  },
  {
   "cell_type": "markdown",
   "metadata": {},
   "source": [
    "The mean returns of foreign equity was set to -0.0005; a negative value of much smaller magnitude. This caused a bigger difference between the mean returns of the two assets, which lowered the magnitudes of the weights. After the adjustment, Domestic Equity now has the higher mean return, and thus its position is now long (positive) to achieve the higher target mean return. The Foreign Equity is now short, since it has the lower mean return, but the magnitude is relatively small, since less of it is needed to achieve a total weight of one.  "
   ]
  },
  {
   "cell_type": "markdown",
   "metadata": {},
   "source": [
    "#### (d) What does this say about the statistical precision of the MV solutions?"
   ]
  },
  {
   "cell_type": "markdown",
   "metadata": {},
   "source": [
    "This result shows that the weights of the MV portfolio depends highly on the difference between the mean returns of its constituent assets.  Small differences require large weights to achieve the target mean return. If the difference increases, the weight magnitudes won't need to be as big and will drop."
   ]
  },
  {
   "cell_type": "markdown",
   "metadata": {},
   "source": [
    "### 7. Robustness\n",
    "\n",
    "(a) Recalculate the two-asset allocation, again with the unadjusted $\\mu^{foreign bonds}$ and again for $\\mu_p = 0.0067$. This time, make one change: in building $\\omega^t$ and $\\omega^v$, do not use $\\sum$ as given in the formulas in the lecture. Rather, use a diaganolized $\\sum^D$, which zeroes out all non-diagonal elements of the full covariance matrix, $\\sum$.\n",
    "\n",
    "How does the allocation look now?\n",
    "\n",
    "(b) What does this suggest about the sensitivity of the solution to estimated means and estimated covariances?\n",
    "\n",
    "(c) HMC deals with this sensitivity by using explicit constraints on the allocation vector. Con-\n",
    "ceptually, what are the pros/cons of doing that versus modifying the formula with $\\sum^D$?"
   ]
  },
  {
   "cell_type": "markdown",
   "metadata": {},
   "source": [
    "#### (a) Recalculate the two-asset allocation, again with the unadjusted $\\mu^{foreign bonds}$ and again for $\\mu_p = 0.0067$. This time, make one change: in building $\\omega^t$ and $\\omega^v$, do not use $\\sum$ as given in the formulas in the lecture. Rather, use a diaganolized $\\sum^D$, which zeroes out all non-diagonal elements of the full covariance matrix, $\\sum$."
   ]
  },
  {
   "cell_type": "code",
   "execution_count": 55,
   "metadata": {},
   "outputs": [],
   "source": [
    "# make covariance matrix diagonal\n",
    "def mv_portfolio_diag(train_data, test_data, mu_p):\n",
    "    '''\n",
    "    Trains model on data, subject to target mean mu_p, and gives in-sample and out-of-sample statistics\n",
    "    '''\n",
    "    master_dist = {}\n",
    "    \n",
    "    # calculate mean return mu\n",
    "    mu = np.array([train_data.mean().values.T]).T\n",
    "    master_dist['mu'] = mu\n",
    "\n",
    "    # reshape\n",
    "    p = len(mu)\n",
    "    master_dist['p'] = p\n",
    "\n",
    "    # calculate covariance matrix Sigma\n",
    "    Sigma_full = train_data.cov().values\n",
    "    d = np.diagonal(Sigma_full)\n",
    "    Sigma = np.diag(d)    \n",
    "    master_dist['Sigma'] = Sigma\n",
    "    \n",
    "    # calculate weights of tangency portfolio, omega_t\n",
    "    Sigma_inv = np.linalg.inv(Sigma)\n",
    "    ones_vec = np.ones((p,1))\n",
    "    denominator_t = ones_vec.T @ Sigma_inv @ mu\n",
    "    \n",
    "    omega_t = (denominator_t**-1) * Sigma_inv @ mu\n",
    "    master_dist['omega_t'] = omega_t\n",
    "\n",
    "    # calculate weights of global minimum variance portfolio\n",
    "    denominator_v = ones_vec.T @ Sigma_inv @ ones_vec\n",
    "    \n",
    "    omega_v = (denominator_v**-1) * Sigma_inv @ ones_vec\n",
    "    master_dist['omega_v'] = omega_v\n",
    "\n",
    "    # mean for tangency portfolio\n",
    "    mu_t = omega_t.T @ mu\n",
    "    master_dist['mu_t'] = mu_t\n",
    "\n",
    "    # standard deviation for GMV portfolio\n",
    "    mu_v = omega_v.T @ mu\n",
    "    master_dist['mu_v'] = mu_v\n",
    "\n",
    "    # volatility for tangency portfolio\n",
    "    sd_t = (omega_t.T @ Sigma @ omega_t)**0.5\n",
    "    master_dist['sd_t'] = sd_t # (np.dot(omega_t.T,Sigma).dot(omega_t))**0.5\n",
    "\n",
    "    # standard deviation for GMV portfolio\n",
    "    sd_v = (omega_v.T @ Sigma @ omega_v)**0.5\n",
    "    master_dist['sd_v'] = sd_v\n",
    "\n",
    "    # weight of MV portfolios\n",
    "    delta = (mu_p - mu_v)/(mu_t - mu_v)\n",
    "    master_dist['delta'] = delta\n",
    "\n",
    "    # weights of optimal portfolio\n",
    "    omega_p = delta*omega_t + (1-delta)*omega_v\n",
    "    master_dist['omega_p'] = omega_p\n",
    "    \n",
    "    # mean return of overall portfolio\n",
    "    mu_p = omega_p.T @ mu\n",
    "    master_dist['mu_p'] = mu_p\n",
    "\n",
    "    # volatility of overall portfolio\n",
    "    sd_p = (omega_p.T @ Sigma @ omega_p)**(1/2)\n",
    "    master_dist['sd_p'] = sd_p\n",
    "\n",
    "    # mean-volatility ratio\n",
    "    mean_vol_ratio_p = mu_p/sd_p\n",
    "    master_dist['mean_vol_ratio_p'] = mean_vol_ratio_p\n",
    "    \n",
    "    # mean return of test set\n",
    "    mu_test_set = np.array([test_data.mean().values.T]).T\n",
    "    master_dist['mu_test_set'] = mu_test_set\n",
    "\n",
    "    # mean return on test set\n",
    "    mu_return_test_set = omega_p.T @ mu_test_set\n",
    "    master_dist['mu_return_test_set'] = mu_return_test_set\n",
    "    \n",
    "    # volatility of test set\n",
    "    Sigma_test_set = test_data.cov().values\n",
    "    master_dist['Sigma_test_set'] = Sigma_test_set\n",
    "\n",
    "    # volatility of model trained on train_data applied to test_data\n",
    "    sigma_vol_test_set = omega_p.T @ Sigma_test_set @ omega_p\n",
    "    master_dist['sigma_vol_test_set'] = sigma_vol_test_set\n",
    "\n",
    "    # mean_variance ratio of model trained on pre-17 data applied to 17-18 data\n",
    "    m_v_ratio_test_set = mu_return_test_set/sigma_vol_test_set\n",
    "    master_dist['m_v_ratio_test_set'] = m_v_ratio_test_set\n",
    "    \n",
    "    return master_dist"
   ]
  },
  {
   "cell_type": "code",
   "execution_count": 98,
   "metadata": {},
   "outputs": [
    {
     "name": "stdout",
     "output_type": "stream",
     "text": [
      "Results for regular covariance:\n",
      " Domestic Equity   -8.79377\n",
      "Foreign Equity     9.79377\n",
      "Name: omega_p, dtype: float64 \n",
      "\n",
      "Results for diagonal covariance:\n",
      "                  omega_p\n",
      "Domestic Equity -8.79377\n",
      "Foreign Equity   9.79377\n"
     ]
    }
   ],
   "source": [
    "# two asset classes\n",
    "train_data = returns[['Domestic Equity','Foreign Equity']]\n",
    "\n",
    "# target mean return\n",
    "mu_p = 0.0067\n",
    "\n",
    "# run optimization\n",
    "portfolio_7 = mv_portfolio_diag(train_data, train_data, mu_p)\n",
    "\n",
    "# index\n",
    "cols = ['Domestic Equity','Foreign Equity']\n",
    "\n",
    "# store results\n",
    "d7 = pd.DataFrame(index=cols)\n",
    "d7['omega_p'] = portfolio_7['omega_p']\n",
    "\n",
    "print('Results for regular covariance:\\n', d6['omega_p'], '\\n')\n",
    "print('Results for diagonal covariance:\\n', d7)"
   ]
  },
  {
   "cell_type": "markdown",
   "metadata": {},
   "source": [
    "The results are the same: the allocation with a diagonal covariance matrix is identical to that of a full covariance matrix. The tangency and GMV portfolio have difference weights ($\\omega_t$ and $\\omega_v$) and different values of delta $\\delta$, which all ofset to produce the same portfolio weights $\\omega_p$."
   ]
  },
  {
   "cell_type": "markdown",
   "metadata": {},
   "source": [
    "#### (b) What does this suggest about the sensitivity of the solution to estimated means and estimated covariances?"
   ]
  },
  {
   "cell_type": "markdown",
   "metadata": {},
   "source": [
    "This suggests that the solutions doesn't depend on the pairwise covariances of the different assets (off-diagonal elements). This is surprising because we need some correlation to achieve diversification benefits."
   ]
  },
  {
   "cell_type": "markdown",
   "metadata": {},
   "source": [
    "#### (c) HMC deals with this sensitivity by using explicit constraints on the allocation vector. Conceptually, what are the pros/cons of doing that versus modifying the formula with $\\sum^D$?"
   ]
  },
  {
   "cell_type": "markdown",
   "metadata": {},
   "source": [
    "The pros of modifying the formula to use the diagonal covariance is that you can still run the optimization with a closed-form solution; it's still convex. Adding constraints to the optimization would make the problem non-convex and it would be harder to perform the optimization. On the other hand, these explicit constraints are a more \"direct\" way of achieving the desired outcome - we want to avoid \"X\", so encode the math to avoid \"X\". It is also more conceptually sound - forcing pairwise correlations to be zero doesn't match real-world behavior. "
   ]
  },
  {
   "cell_type": "markdown",
   "metadata": {},
   "source": [
    "### 8. Let’s divide the sample to both compute a portfolio and then check its performance out of sample.\n",
    "* (a) Using only data through the end of 2016, compute $\\omega_p$ for $\\mu_p$ = .0067, allocating to all 12 assets.\n",
    "* (b) Calculate the portfolio’s mean-volatility ratio within that sample, through the end of 2016.\n",
    "* (c) Calculate the portfolio’s mean-volatility ratio based on performance in 2017-2018.\n",
    "* (d) How does this out-of-sample mean-volatility compare to the 2000-2016 performance of a portfolio optimized to $\\mu_p$ using 2000-2016 data?\n",
    "* (e) How does this out-of-sample mean-volatility compare to the 2017-2018 performance of a\n",
    "portfolio optimized to $\\mu_p$\n",
    "p using 2017-2018 data?\n",
    "* (f) Recalculate $\\omega$\n",
    "p on 2000-2016 data using the diaganolized covariance matrix, $\\sum^D$. What is\n",
    "the performance of this portfolio in 2017-2018? Does it do better out of of sample than the\n",
    "portfolio constructed on 2000-2016 data using the full covariance matrix?"
   ]
  },
  {
   "cell_type": "markdown",
   "metadata": {},
   "source": [
    "#### (a) Using only data through the end of 2016, compute $\\omega_p$ for $\\mu_p$ = .0067, allocating to all 12 assets."
   ]
  },
  {
   "cell_type": "code",
   "execution_count": 57,
   "metadata": {},
   "outputs": [
    {
     "name": "stdout",
     "output_type": "stream",
     "text": [
      "Weights of model trained on data through end of 2016 with target mean return of 0.0067: \n",
      "\n",
      "                    omega_p\n",
      "Domestic Equity   -0.083892\n",
      "Foreign Equity    -0.189183\n",
      "Emerging Markets   0.304887\n",
      "Private Equity     0.086389\n",
      "Absolute Return    0.798099\n",
      "High Yield         0.372641\n",
      "Commodities       -0.076005\n",
      "Real Estate       -0.165150\n",
      "Domestic Bonds     1.070048\n",
      "Foreign Bonds     -0.715291\n",
      "Inflation-Indexed -0.099177\n",
      "Cash              -0.303367\n"
     ]
    }
   ],
   "source": [
    "# data through end of 2016\n",
    "train_data = returns[:datetime(2017, 1, 1)]\n",
    "test_data = returns[datetime(2017, 1, 1):]\n",
    "\n",
    "# target mean return\n",
    "mu_p = 0.0067\n",
    "\n",
    "# train model on the data\n",
    "portfolio_8 = mv_portfolio(train_data, test_data, mu_p)\n",
    "\n",
    "# index\n",
    "cols = list(returns.keys())\n",
    "\n",
    "# store results\n",
    "d8 = pd.DataFrame(index=cols)\n",
    "d8['omega_p'] = portfolio_8['omega_p']\n",
    "\n",
    "print('Weights of model trained on data through end of 2016 with target mean return of {}:'.format(mu_p), '\\n')\n",
    "print(d8)"
   ]
  },
  {
   "cell_type": "markdown",
   "metadata": {},
   "source": [
    "#### (b) Calculate the portfolio’s mean-volatility ratio within that sample, through the end of 2016."
   ]
  },
  {
   "cell_type": "code",
   "execution_count": 58,
   "metadata": {},
   "outputs": [
    {
     "name": "stdout",
     "output_type": "stream",
     "text": [
      "Mean-volatility ratio of model trained on data through end of 2016 with target mean return of 0.0067: \n",
      "\n",
      "0.39986242651525356\n"
     ]
    }
   ],
   "source": [
    "print('Mean-volatility ratio of model trained on data through end of 2016 with target mean return of {}:'.format(mu_p), '\\n')\n",
    "print(portfolio_8['mean_vol_ratio_p'][0][0])"
   ]
  },
  {
   "cell_type": "markdown",
   "metadata": {},
   "source": [
    "#### (c) Calculate the portfolio’s mean-volatility ratio based on performance in 2017-2018."
   ]
  },
  {
   "cell_type": "code",
   "execution_count": 62,
   "metadata": {},
   "outputs": [
    {
     "name": "stdout",
     "output_type": "stream",
     "text": [
      "Out-of-sample mean-volatility ratio:\n",
      "9.147761271098938\n"
     ]
    }
   ],
   "source": [
    "print('Out-of-sample mean-volatility ratio:')\n",
    "print(portfolio_8['m_v_ratio_test_set'][0][0])"
   ]
  },
  {
   "cell_type": "markdown",
   "metadata": {},
   "source": [
    "#### (d) How does this out-of-sample mean-volatility compare to the 2000-2016 performance of a portfolio optimized to $\\mu^p$ using 2000-2016 data?"
   ]
  },
  {
   "cell_type": "markdown",
   "metadata": {},
   "source": [
    "The mean-variance ratio is much larger for 17-18 than pre-2017 (9.1 vs. 0.4). This is says that a portfolio selected based on 2000-2016 data performs very well on 2017-18 data; in fact, better than a model trained in-sample."
   ]
  },
  {
   "cell_type": "markdown",
   "metadata": {},
   "source": [
    "#### (e) How does this out-of-sample mean-volatility compare to the 2017-2018 performance of a portfolio optimized to $\\mu^p$ using 2017-2018 data?"
   ]
  },
  {
   "cell_type": "code",
   "execution_count": 68,
   "metadata": {},
   "outputs": [
    {
     "name": "stdout",
     "output_type": "stream",
     "text": [
      "Mean-volatility in-sample for 17-18:\n",
      "\n",
      "1.2890149005336444\n"
     ]
    }
   ],
   "source": [
    "# data through end of 2016\n",
    "train_data = returns[datetime(2017, 1, 1):]\n",
    "test_data = returns[datetime(2017, 1, 1):]\n",
    "\n",
    "# target mean return\n",
    "mu_p = 0.0067\n",
    "\n",
    "# train model on the data\n",
    "portfolio_8e = mv_portfolio(train_data, test_data, mu_p)\n",
    "\n",
    "# in-sample ratio\n",
    "print('Mean-volatility in-sample for 17-18:\\n')\n",
    "print(portfolio_8e['mean_vol_ratio_p'][0][0])"
   ]
  },
  {
   "cell_type": "markdown",
   "metadata": {},
   "source": [
    "The mean-volatility is worse for a model trained in-sample than the model train out-of-sample. That is surprising. The reason could be that the out-of-sample performance isn't constrained to the 0.0067 mean return, so the portfolio is \"allowed\" to find a much lower volatility, thus allowing the ratio to be better."
   ]
  },
  {
   "cell_type": "markdown",
   "metadata": {},
   "source": [
    "#### (f) Recalculate $\\omega^p$ on 2000-2016 data using the diaganolized covariance matrix, $\\sum^D$. What is the performance of this portfolio in 2017-2018? Does it do better out-of-sample than the portfolio constructed on 2000-2016 data using the full covariance matrix?"
   ]
  },
  {
   "cell_type": "code",
   "execution_count": 61,
   "metadata": {},
   "outputs": [
    {
     "name": "stdout",
     "output_type": "stream",
     "text": [
      "Mean return using diagonalized matrix:\n",
      "0.39986242651525356 \n",
      "\n",
      "Compared to regular covariance matrix:\n",
      "0.39986242651525356\n"
     ]
    }
   ],
   "source": [
    "# data through end of 2016\n",
    "train_data = returns[:datetime(2017, 1, 1)]\n",
    "test_data = returns[datetime(2017, 1, 1):]\n",
    "\n",
    "# target mean return\n",
    "mu_p = 0.0067\n",
    "\n",
    "# train model on the data\n",
    "portfolio_8f = mv_portfolio(train_data, test_data, mu_p)\n",
    "\n",
    "# index\n",
    "cols = list(returns.keys())\n",
    "\n",
    "# store results\n",
    "d8f = pd.DataFrame(index=cols)\n",
    "d8f['omega_p'] = portfolio_8f['omega_p']\n",
    "\n",
    "print('Mean return using diagonalized matrix:')\n",
    "print(portfolio_8f['mean_vol_ratio_p'][0][0], '\\n')\n",
    "\n",
    "print('Compared to regular covariance matrix:')\n",
    "print(portfolio_8['mean_vol_ratio_p'][0][0])"
   ]
  },
  {
   "cell_type": "markdown",
   "metadata": {},
   "source": [
    "Diagonalizing the covariance matrix doesn't change the optimal portfolio, as we saw in question 7."
   ]
  }
 ],
 "metadata": {
  "kernelspec": {
   "display_name": "Python 3",
   "language": "python",
   "name": "python3"
  },
  "language_info": {
   "codemirror_mode": {
    "name": "ipython",
    "version": 3
   },
   "file_extension": ".py",
   "mimetype": "text/x-python",
   "name": "python",
   "nbconvert_exporter": "python",
   "pygments_lexer": "ipython3",
   "version": "3.6.6"
  }
 },
 "nbformat": 4,
 "nbformat_minor": 2
}
